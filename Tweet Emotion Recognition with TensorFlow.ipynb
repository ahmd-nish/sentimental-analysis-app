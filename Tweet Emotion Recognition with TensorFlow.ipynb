{
 "cells": [
  {
   "cell_type": "markdown",
   "id": "64cf7107",
   "metadata": {},
   "source": [
    "<h2>Setup</h2>\n",
    "<p>In this we will setup the necessary libraries whicih we will use in our project</p>"
   ]
  },
  {
   "cell_type": "code",
   "execution_count": 1,
   "id": "a75ba544",
   "metadata": {},
   "outputs": [
    {
     "name": "stdout",
     "output_type": "stream",
     "text": [
      "Requirement already satisfied: nlp in c:\\users\\naham\\appdata\\roaming\\python\\python310\\site-packages (0.4.0)\n",
      "Requirement already satisfied: tqdm>=4.27 in c:\\python310\\lib\\site-packages (from nlp) (4.64.0)\n",
      "Requirement already satisfied: numpy in c:\\python310\\lib\\site-packages (from nlp) (1.22.4)\n",
      "Requirement already satisfied: requests>=2.19.0 in c:\\users\\naham\\appdata\\roaming\\python\\python310\\site-packages (from nlp) (2.27.1)\n",
      "Requirement already satisfied: filelock in c:\\users\\naham\\appdata\\roaming\\python\\python310\\site-packages (from nlp) (3.7.1)\n",
      "Requirement already satisfied: pyarrow>=0.16.0 in c:\\users\\naham\\appdata\\roaming\\python\\python310\\site-packages (from nlp) (8.0.0)\n",
      "Requirement already satisfied: dill in c:\\users\\naham\\appdata\\roaming\\python\\python310\\site-packages (from nlp) (0.3.5.1)\n",
      "Requirement already satisfied: pandas in c:\\users\\naham\\appdata\\roaming\\python\\python310\\site-packages (from nlp) (1.4.2)\n",
      "Requirement already satisfied: xxhash in c:\\python310\\lib\\site-packages (from nlp) (3.0.0)\n",
      "Requirement already satisfied: idna<4,>=2.5 in c:\\users\\naham\\appdata\\roaming\\python\\python310\\site-packages (from requests>=2.19.0->nlp) (3.3)\n",
      "Requirement already satisfied: charset-normalizer~=2.0.0 in c:\\users\\naham\\appdata\\roaming\\python\\python310\\site-packages (from requests>=2.19.0->nlp) (2.0.12)\n",
      "Requirement already satisfied: urllib3<1.27,>=1.21.1 in c:\\python310\\lib\\site-packages (from requests>=2.19.0->nlp) (1.26.9)\n",
      "Requirement already satisfied: certifi>=2017.4.17 in c:\\users\\naham\\appdata\\roaming\\python\\python310\\site-packages (from requests>=2.19.0->nlp) (2022.5.18.1)\n",
      "Requirement already satisfied: colorama in c:\\python310\\lib\\site-packages (from tqdm>=4.27->nlp) (0.4.4)\n",
      "Requirement already satisfied: pytz>=2020.1 in c:\\python310\\lib\\site-packages (from pandas->nlp) (2022.1)\n",
      "Requirement already satisfied: python-dateutil>=2.8.1 in c:\\python310\\lib\\site-packages (from pandas->nlp) (2.8.2)\n",
      "Requirement already satisfied: six>=1.5 in c:\\python310\\lib\\site-packages (from python-dateutil>=2.8.1->pandas->nlp) (1.16.0)\n"
     ]
    },
    {
     "name": "stderr",
     "output_type": "stream",
     "text": [
      "WARNING: Ignoring invalid distribution -ip (c:\\python310\\lib\\site-packages)\n",
      "WARNING: Ignoring invalid distribution -ensorflow-gpu (c:\\python310\\lib\\site-packages)\n",
      "WARNING: Ignoring invalid distribution -ip (c:\\python310\\lib\\site-packages)\n",
      "WARNING: Ignoring invalid distribution -ensorflow-gpu (c:\\python310\\lib\\site-packages)\n",
      "WARNING: Ignoring invalid distribution -ip (c:\\python310\\lib\\site-packages)\n",
      "WARNING: Ignoring invalid distribution -ensorflow-gpu (c:\\python310\\lib\\site-packages)\n",
      "WARNING: Ignoring invalid distribution -ip (c:\\python310\\lib\\site-packages)\n",
      "WARNING: Ignoring invalid distribution -ensorflow-gpu (c:\\python310\\lib\\site-packages)\n",
      "\n",
      "[notice] A new release of pip available: 22.2.2 -> 22.3.1\n",
      "[notice] To update, run: python.exe -m pip install --upgrade pip\n"
     ]
    }
   ],
   "source": [
    "!pip install nlp"
   ]
  },
  {
   "cell_type": "code",
   "execution_count": 2,
   "id": "57fcf8b3",
   "metadata": {},
   "outputs": [
    {
     "name": "stdout",
     "output_type": "stream",
     "text": [
      "Using TensorFlow version 2.8.0\n"
     ]
    }
   ],
   "source": [
    "%matplotlib inline\n",
    "\n",
    "import tensorflow as tf\n",
    "from tensorflow.keras.preprocessing.sequence import pad_sequences\n",
    "import numpy as np\n",
    "import matplotlib.pyplot as plt\n",
    "import nlp\n",
    "import random\n",
    "print('Using TensorFlow version', tf.__version__)"
   ]
  },
  {
   "cell_type": "code",
   "execution_count": 3,
   "id": "3aeed16e",
   "metadata": {},
   "outputs": [],
   "source": [
    "def show_history(h):\n",
    "    epochs_trained = len(h.history['loss'])\n",
    "    plt.figure(figsize=(16, 6))\n",
    "\n",
    "    plt.subplot(1, 2, 1)\n",
    "    plt.plot(range(0, epochs_trained), h.history.get('accuracy'), label='Training')\n",
    "    plt.plot(range(0, epochs_trained), h.history.get('val_accuracy'), label='Validation')\n",
    "    plt.ylim([0., 1.])\n",
    "    plt.xlabel('Epochs')\n",
    "    plt.ylabel('Accuracy')\n",
    "    plt.legend()\n",
    "\n",
    "    plt.subplot(1, 2, 2)\n",
    "    plt.plot(range(0, epochs_trained), h.history.get('loss'), label='Training')\n",
    "    plt.plot(range(0, epochs_trained), h.history.get('val_loss'), label='Validation')\n",
    "    plt.xlabel('Epochs')\n",
    "    plt.ylabel('Loss')\n",
    "    plt.legend()\n",
    "    plt.show()\n",
    "\n",
    "    \n",
    "def show_confusion_matrix(y_true, y_pred, classes):\n",
    "    from sklearn.metrics import confusion_matrix\n",
    "    \n",
    "    cm = confusion_matrix(y_true, y_pred, normalize='true')\n",
    "\n",
    "    plt.figure(figsize=(8, 8))\n",
    "    sp = plt.subplot(1, 1, 1)\n",
    "    ctx = sp.matshow(cm)\n",
    "    plt.xticks(list(range(0, 6)), labels=classes)\n",
    "    plt.yticks(list(range(0, 6)), labels=classes)\n",
    "    plt.colorbar(ctx)\n",
    "    plt.show()"
   ]
  },
  {
   "cell_type": "markdown",
   "id": "2ad53cc1",
   "metadata": {},
   "source": [
    "<h2> Import the data</h2>\n",
    "<p>In here we are using the nlp libray of hugging face so we are importing the available dataset from there.</p>"
   ]
  },
  {
   "cell_type": "code",
   "execution_count": 4,
   "id": "beb37acf",
   "metadata": {},
   "outputs": [
    {
     "name": "stderr",
     "output_type": "stream",
     "text": [
      "Using custom data configuration default\n"
     ]
    }
   ],
   "source": [
    "dataset = nlp.load_dataset('emotion')"
   ]
  },
  {
   "cell_type": "code",
   "execution_count": 5,
   "id": "b096aa5d",
   "metadata": {},
   "outputs": [],
   "source": [
    "train = dataset['train']\n",
    "val = dataset['validation']\n",
    "test = dataset['test']"
   ]
  },
  {
   "cell_type": "code",
   "execution_count": 6,
   "id": "3ca0935c",
   "metadata": {},
   "outputs": [],
   "source": [
    "def get_tweets(data):\n",
    "    tweets = [x['text'] for x in data]\n",
    "    labels = [x['label'] for x in data]\n",
    "    return tweets, labels"
   ]
  },
  {
   "cell_type": "code",
   "execution_count": 7,
   "id": "d648b473",
   "metadata": {},
   "outputs": [
    {
     "data": {
      "text/plain": [
       "('i didnt feel humiliated', 'sadness')"
      ]
     },
     "execution_count": 7,
     "metadata": {},
     "output_type": "execute_result"
    }
   ],
   "source": [
    "tweets, labels = get_tweets(train)\n",
    "\n",
    "tweets[0], labels[0]"
   ]
  },
  {
   "cell_type": "markdown",
   "id": "1802aeea",
   "metadata": {},
   "source": [
    "<h2>Tokenizing the tweets</h2>\n",
    "<p>In this part we will give some unique tokens to each words used int the tweets</p>\n"
   ]
  },
  {
   "cell_type": "code",
   "execution_count": 8,
   "id": "f8259cf4",
   "metadata": {},
   "outputs": [
    {
     "name": "stdout",
     "output_type": "stream",
     "text": [
      "i am feeling grouchy\n",
      "[[2, 24, 8, 1065]]\n"
     ]
    }
   ],
   "source": [
    "tokenizer = tf.keras.preprocessing.text.Tokenizer(num_words=10000, oov_token='<OOV>')\n",
    "\n",
    "tokenizer.fit_on_texts(tweets)\n",
    "\n",
    "print(tweets[4])\n",
    "print(tokenizer.texts_to_sequences([tweets[4]]))"
   ]
  },
  {
   "cell_type": "markdown",
   "id": "7d964076",
   "metadata": {},
   "source": [
    "<h2>Padding and Truncating Sequences</h2>\n",
    "<p>In this part we will find the best size for the array and padd everything to that length</p>\n",
    "\n"
   ]
  },
  {
   "cell_type": "markdown",
   "id": "a7c729eb",
   "metadata": {},
   "source": [
    "<h4>1. Checking the tweet lengths</h4>"
   ]
  },
  {
   "cell_type": "code",
   "execution_count": 9,
   "id": "fcebab55",
   "metadata": {},
   "outputs": [
    {
     "data": {
      "image/png": "[encoded data removed]",
      "text/plain": [
       "<Figure size 432x288 with 1 Axes>"
      ]
     },
     "metadata": {
      "needs_background": "light"
     },
     "output_type": "display_data"
    }
   ],
   "source": [
    "lengths = [len(t.split(' ')) for t in tweets]\n",
    "\n",
    "plt.hist(lengths, bins=len(set(lengths)))\n",
    "plt.show()"
   ]
  },
  {
   "cell_type": "markdown",
   "id": "bb44a2aa",
   "metadata": {},
   "source": [
    "<h4>2. Creating padded sequences</h4>"
   ]
  },
  {
   "cell_type": "code",
   "execution_count": 10,
   "id": "94d1dd53",
   "metadata": {},
   "outputs": [],
   "source": [
    "def get_sequences(tokenizer, tweets):\n",
    "    sequences = tokenizer.texts_to_sequences(tweets)\n",
    "    padded_sequences = pad_sequences(sequences, truncating='post', maxlen=50, padding='post')\n",
    "    return padded_sequences"
   ]
  },
  {
   "cell_type": "code",
   "execution_count": 11,
   "id": "70451f52",
   "metadata": {},
   "outputs": [],
   "source": [
    "padded_train_sequences = get_sequences(tokenizer, tweets)"
   ]
  },
  {
   "cell_type": "code",
   "execution_count": 12,
   "id": "1ceed986",
   "metadata": {},
   "outputs": [
    {
     "name": "stdout",
     "output_type": "stream",
     "text": [
      "i didnt feel humiliated\n"
     ]
    },
    {
     "data": {
      "text/plain": [
       "array([  2, 139,   3, 679,   0,   0,   0,   0,   0,   0,   0,   0,   0,\n",
       "         0,   0,   0,   0,   0,   0,   0,   0,   0,   0,   0,   0,   0,\n",
       "         0,   0,   0,   0,   0,   0,   0,   0,   0,   0,   0,   0,   0,\n",
       "         0,   0,   0,   0,   0,   0,   0,   0,   0,   0,   0])"
      ]
     },
     "execution_count": 12,
     "metadata": {},
     "output_type": "execute_result"
    }
   ],
   "source": [
    "print(tweets[0])\n",
    "padded_train_sequences[0]"
   ]
  },
  {
   "cell_type": "markdown",
   "id": "2f02c7ec",
   "metadata": {},
   "source": [
    "<h2>Preparing the Labels</h2>\n",
    "<p>In this part we will set unique indexes for the labels </p>\n"
   ]
  },
  {
   "cell_type": "markdown",
   "id": "078d882d",
   "metadata": {},
   "source": [
    "<h4>Creating classes to index and index to classes dictionaries</h4>"
   ]
  },
  {
   "cell_type": "code",
   "execution_count": 13,
   "id": "4893fccb",
   "metadata": {},
   "outputs": [
    {
     "name": "stdout",
     "output_type": "stream",
     "text": [
      "{'love', 'anger', 'sadness', 'joy', 'fear', 'surprise'}\n"
     ]
    }
   ],
   "source": [
    "classes = set(labels)\n",
    "print(classes)"
   ]
  },
  {
   "cell_type": "code",
   "execution_count": 14,
   "id": "f66c00a9",
   "metadata": {},
   "outputs": [
    {
     "data": {
      "image/png": "[encoded data removed]",
      "text/plain": [
       "<Figure size 432x288 with 1 Axes>"
      ]
     },
     "metadata": {
      "needs_background": "light"
     },
     "output_type": "display_data"
    }
   ],
   "source": [
    "plt.hist(labels, bins=11)\n",
    "plt.show()"
   ]
  },
  {
   "cell_type": "code",
   "execution_count": 15,
   "id": "6d594b10",
   "metadata": {},
   "outputs": [],
   "source": [
    "classes_to_index = dict((c, i) for i, c in enumerate(classes))\n",
    "index_to_classes = dict((v, k) for k, v in classes_to_index.items())"
   ]
  },
  {
   "cell_type": "code",
   "execution_count": 16,
   "id": "c7046c62",
   "metadata": {},
   "outputs": [
    {
     "data": {
      "text/plain": [
       "{'love': 0, 'anger': 1, 'sadness': 2, 'joy': 3, 'fear': 4, 'surprise': 5}"
      ]
     },
     "execution_count": 16,
     "metadata": {},
     "output_type": "execute_result"
    }
   ],
   "source": [
    "classes_to_index"
   ]
  },
  {
   "cell_type": "code",
   "execution_count": 17,
   "id": "66a6c957",
   "metadata": {},
   "outputs": [
    {
     "data": {
      "text/plain": [
       "{0: 'love', 1: 'anger', 2: 'sadness', 3: 'joy', 4: 'fear', 5: 'surprise'}"
      ]
     },
     "execution_count": 17,
     "metadata": {},
     "output_type": "execute_result"
    }
   ],
   "source": [
    "index_to_classes"
   ]
  },
  {
   "cell_type": "markdown",
   "id": "a0ce3d98",
   "metadata": {},
   "source": [
    "<h4>Converting text labels to numeric labels</h4>"
   ]
  },
  {
   "cell_type": "code",
   "execution_count": 18,
   "id": "c42a980c",
   "metadata": {},
   "outputs": [],
   "source": [
    "names_to_ids = lambda labels: np.array([classes_to_index.get(x) for x in labels])"
   ]
  },
  {
   "cell_type": "code",
   "execution_count": 19,
   "id": "0f5f170c",
   "metadata": {},
   "outputs": [
    {
     "name": "stdout",
     "output_type": "stream",
     "text": [
      "2\n"
     ]
    }
   ],
   "source": [
    "train_labels = names_to_ids(labels)\n",
    "print(train_labels[0])"
   ]
  },
  {
   "cell_type": "markdown",
   "id": "655a4247",
   "metadata": {},
   "source": [
    "<h2>Creating and Compiling the model</h2>\n",
    "<p>In this part of the code we will set up and compile the model</p>"
   ]
  },
  {
   "cell_type": "code",
   "execution_count": 20,
   "id": "b5ab74ef",
   "metadata": {},
   "outputs": [
    {
     "name": "stdout",
     "output_type": "stream",
     "text": [
      "Model: \"sequential\"\n",
      "_________________________________________________________________\n",
      " Layer (type)                Output Shape              Param #   \n",
      "=================================================================\n",
      " embedding (Embedding)       (None, 50, 16)            160000    \n",
      "                                                                 \n",
      " bidirectional (Bidirectiona  (None, 50, 40)           5920      \n",
      " l)                                                              \n",
      "                                                                 \n",
      " bidirectional_1 (Bidirectio  (None, 40)               9760      \n",
      " nal)                                                            \n",
      "                                                                 \n",
      " dense (Dense)               (None, 6)                 246       \n",
      "                                                                 \n",
      "=================================================================\n",
      "Total params: 175,926\n",
      "Trainable params: 175,926\n",
      "Non-trainable params: 0\n",
      "_________________________________________________________________\n"
     ]
    }
   ],
   "source": [
    "model = tf.keras.models.Sequential([\n",
    "    tf.keras.layers.Embedding(10000, 16, input_length=50),\n",
    "    tf.keras.layers.Bidirectional(tf.keras.layers.LSTM(20, return_sequences=True)),\n",
    "    tf.keras.layers.Bidirectional(tf.keras.layers.LSTM(20)),\n",
    "    tf.keras.layers.Dense(6, activation='softmax')\n",
    "])\n",
    "\n",
    "model.compile(\n",
    "    loss='sparse_categorical_crossentropy',\n",
    "    optimizer='adam',\n",
    "    metrics=['accuracy']\n",
    ")\n",
    "\n",
    "model.summary()"
   ]
  },
  {
   "cell_type": "markdown",
   "id": "459d9ad8",
   "metadata": {},
   "source": [
    "<h2>Training the Model</h2>\n",
    "<p>In this part we will prepare the validation set initially and then train the model and test for accuracy</p>"
   ]
  },
  {
   "cell_type": "markdown",
   "id": "02bcefd9",
   "metadata": {},
   "source": [
    "<h4>1. Preparing the validation set</h4>"
   ]
  },
  {
   "cell_type": "code",
   "execution_count": 21,
   "id": "e0948e19",
   "metadata": {},
   "outputs": [],
   "source": [
    "val_tweets, val_labels = get_tweets(val)\n",
    "val_sequences = get_sequences(tokenizer, val_tweets)\n",
    "val_labels = names_to_ids(val_labels)"
   ]
  },
  {
   "cell_type": "code",
   "execution_count": 22,
   "id": "382bb015",
   "metadata": {},
   "outputs": [
    {
     "data": {
      "text/plain": [
       "('im feeling quite sad and sorry for myself but ill snap out of it soon', 2)"
      ]
     },
     "execution_count": 22,
     "metadata": {},
     "output_type": "execute_result"
    }
   ],
   "source": [
    "val_tweets[0], val_labels[0]\n"
   ]
  },
  {
   "cell_type": "code",
   "execution_count": 57,
   "id": "1bc05774",
   "metadata": {},
   "outputs": [
    {
     "data": {
      "text/plain": [
       "array([[   2,  139,    3, ...,    0,    0,    0],\n",
       "       [   2,   40,  101, ...,    0,    0,    0],\n",
       "       [  17, 3060,    7, ...,    0,    0,    0],\n",
       "       ...,\n",
       "       [   2,    3,  327, ...,    0,    0,    0],\n",
       "       [   2,    3,   14, ...,    0,    0,    0],\n",
       "       [   2,   47,    7, ...,    0,    0,    0]])"
      ]
     },
     "execution_count": 57,
     "metadata": {},
     "output_type": "execute_result"
    }
   ],
   "source": [
    "padded_train_sequences"
   ]
  },
  {
   "cell_type": "markdown",
   "id": "29122419",
   "metadata": {},
   "source": [
    "<h4>2. Training the model</h4>"
   ]
  },
  {
   "cell_type": "code",
   "execution_count": 23,
   "id": "b6952ec9",
   "metadata": {},
   "outputs": [
    {
     "name": "stdout",
     "output_type": "stream",
     "text": [
      "Epoch 1/50\n",
      "500/500 [==============================] - 24s 27ms/step - loss: 1.3261 - accuracy: 0.4519 - val_loss: 0.8154 - val_accuracy: 0.6895\n",
      "Epoch 2/50\n",
      "500/500 [==============================] - 17s 35ms/step - loss: 0.5989 - accuracy: 0.7822 - val_loss: 0.5989 - val_accuracy: 0.8015\n",
      "Epoch 3/50\n",
      "500/500 [==============================] - 22s 43ms/step - loss: 0.3377 - accuracy: 0.8885 - val_loss: 0.4740 - val_accuracy: 0.8445\n",
      "Epoch 4/50\n",
      "500/500 [==============================] - 25s 50ms/step - loss: 0.2158 - accuracy: 0.9294 - val_loss: 0.4608 - val_accuracy: 0.8660\n",
      "Epoch 5/50\n",
      "500/500 [==============================] - 22s 44ms/step - loss: 0.1413 - accuracy: 0.9553 - val_loss: 0.3798 - val_accuracy: 0.8900\n",
      "Epoch 6/50\n",
      "500/500 [==============================] - 24s 49ms/step - loss: 0.1069 - accuracy: 0.9675 - val_loss: 0.3887 - val_accuracy: 0.8905\n",
      "Epoch 7/50\n",
      "500/500 [==============================] - 23s 45ms/step - loss: 0.0874 - accuracy: 0.9738 - val_loss: 0.4106 - val_accuracy: 0.8850\n",
      "Epoch 8/50\n",
      "500/500 [==============================] - 43s 86ms/step - loss: 0.0818 - accuracy: 0.9756 - val_loss: 0.4342 - val_accuracy: 0.8830\n"
     ]
    }
   ],
   "source": [
    "history = model.fit(\n",
    "    padded_train_sequences, train_labels,\n",
    "    validation_data=(val_sequences, val_labels),\n",
    "    epochs=50,\n",
    "    callbacks=[\n",
    "        tf.keras.callbacks.EarlyStopping(monitor='val_accuracy', patience=2)\n",
    "    ]\n",
    ")"
   ]
  },
  {
   "cell_type": "markdown",
   "id": "891e195d",
   "metadata": {},
   "source": [
    "<h2>Evlauating the model</h2>"
   ]
  },
  {
   "cell_type": "code",
   "execution_count": 24,
   "id": "c729f24e",
   "metadata": {},
   "outputs": [
    {
     "data": {
      "image/png": "[encoded data removed]",
      "text/plain": [
       "<Figure size 1152x432 with 2 Axes>"
      ]
     },
     "metadata": {
      "needs_background": "light"
     },
     "output_type": "display_data"
    }
   ],
   "source": [
    "show_history(history)"
   ]
  },
  {
   "cell_type": "code",
   "execution_count": 25,
   "id": "3ae8358e",
   "metadata": {},
   "outputs": [],
   "source": [
    "test_tweets, test_labels = get_tweets(test)\n",
    "test_sequences = get_sequences(tokenizer, test_tweets)\n",
    "test_labels = names_to_ids(test_labels)"
   ]
  },
  {
   "cell_type": "code",
   "execution_count": 26,
   "id": "ff93a76d",
   "metadata": {},
   "outputs": [
    {
     "name": "stdout",
     "output_type": "stream",
     "text": [
      "63/63 [==============================] - 1s 19ms/step - loss: 0.4401 - accuracy: 0.8700\n"
     ]
    }
   ],
   "source": [
    "_ = model.evaluate(test_sequences, test_labels)\n"
   ]
  },
  {
   "cell_type": "markdown",
   "id": "c023b638",
   "metadata": {},
   "source": [
    "<h4>Just testing the output for random samples</h4>"
   ]
  },
  {
   "cell_type": "code",
   "execution_count": 27,
   "id": "7a497fd0",
   "metadata": {},
   "outputs": [
    {
     "name": "stdout",
     "output_type": "stream",
     "text": [
      "Sentence: i grab it from the air its smooth frame feels cold to the touch\n",
      "Emotion: anger\n",
      "Predicted Emotion: anger\n"
     ]
    }
   ],
   "source": [
    "i = random.randint(0, len(test_labels) - 1)\n",
    "\n",
    "print('Sentence:', test_tweets[i])\n",
    "print('Emotion:', index_to_classes[test_labels[i]])\n",
    "\n",
    "p = model.predict(np.expand_dims(test_sequences[i], axis=0))[0]\n",
    "pred_class = index_to_classes[np.argmax(p).astype('int')]\n",
    "print('Predicted Emotion:', pred_class)"
   ]
  },
  {
   "cell_type": "code",
   "execution_count": 28,
   "id": "f062b82d",
   "metadata": {},
   "outputs": [],
   "source": [
    "y_predict = np.argmax(model.predict(test_sequences),axis=1)"
   ]
  },
  {
   "cell_type": "code",
   "execution_count": 38,
   "id": "73daf9db",
   "metadata": {},
   "outputs": [
    {
     "data": {
      "image/png": "[encoded data removed]",
      "text/plain": [
       "<Figure size 576x576 with 2 Axes>"
      ]
     },
     "metadata": {
      "needs_background": "light"
     },
     "output_type": "display_data"
    }
   ],
   "source": [
    "show_confusion_matrix(test_labels, y_predict, list(classes))"
   ]
  },
  {
   "cell_type": "code",
   "execution_count": 29,
   "id": "04426a73",
   "metadata": {},
   "outputs": [],
   "source": [
    "tf.keras.models.save_model(model, \"./model.h5\")"
   ]
  },
  {
   "cell_type": "code",
   "execution_count": 31,
   "id": "03c20ebb",
   "metadata": {},
   "outputs": [],
   "source": [
    "model = tf.keras.models.load_model(\"./model.h5\")"
   ]
  },
  {
   "cell_type": "code",
   "execution_count": 61,
   "id": "9e978f2c",
   "metadata": {},
   "outputs": [],
   "source": [
    "# Define the function to predict the sentiment of a text\n",
    "def predict_sentiment(text):\n",
    "    # Preprocess the input text\n",
    "    token = tokenizer.texts_to_sequences([text])\n",
    "    print(token)\n",
    "    paded = tf.keras.preprocessing.sequence.pad_sequences([token[0]], maxlen=50, padding=\"post\")\n",
    "    print(paded)\n",
    "    #padded_sequences = pad_sequences(sequences, truncating='post', maxlen=50, padding='post')\n",
    "    \n",
    "    # Predict the sentiment\n",
    "    p = model.predict(paded)\n",
    "    sentiment = index_to_classes[np.argmax(p).astype('int')]\n",
    "    \n",
    "    # Return the sentiment\n",
    "    return sentiment"
   ]
  },
  {
   "cell_type": "code",
   "execution_count": 65,
   "id": "fec588c1",
   "metadata": {},
   "outputs": [
    {
     "name": "stdout",
     "output_type": "stream",
     "text": [
      "[[23, 22]]\n",
      "[[23 22  0  0  0  0  0  0  0  0  0  0  0  0  0  0  0  0  0  0  0  0  0  0\n",
      "   0  0  0  0  0  0  0  0  0  0  0  0  0  0  0  0  0  0  0  0  0  0  0  0\n",
      "   0  0]]\n",
      "Sentiment: sadness\n"
     ]
    }
   ],
   "source": [
    "# Example usage\n",
    "text = \"This is.\"\n",
    "sentiment = predict_sentiment(text)\n",
    "print(\"Sentiment:\", sentiment)"
   ]
  },
  {
   "cell_type": "code",
   "execution_count": 52,
   "id": "d081643f",
   "metadata": {},
   "outputs": [
    {
     "name": "stdout",
     "output_type": "stream",
     "text": [
      "[[2, 24, 154]]\n"
     ]
    }
   ],
   "source": [
    "text = \"i am happy\"\n",
    "print(tokenizer.texts_to_sequences([text]))"
   ]
  },
  {
   "cell_type": "code",
   "execution_count": 58,
   "id": "900cdcac",
   "metadata": {},
   "outputs": [
    {
     "data": {
      "text/plain": [
       "array([   2,  145,   80,   68, 2971,   60,   18,   37,    2,  104,   43,\n",
       "        165,   67,   68,    5,    3,   14,    2,   93,  406,   25,   68,\n",
       "          0,    0,    0,    0,    0,    0,    0,    0,    0,    0,    0,\n",
       "          0,    0,    0,    0,    0,    0,    0,    0,    0,    0,    0,\n",
       "          0,    0,    0,    0,    0,    0])"
      ]
     },
     "execution_count": 58,
     "metadata": {},
     "output_type": "execute_result"
    }
   ],
   "source": [
    "test_sequences[2]"
   ]
  },
  {
   "cell_type": "code",
   "execution_count": 67,
   "id": "17ae4810",
   "metadata": {},
   "outputs": [
    {
     "name": "stderr",
     "output_type": "stream",
     "text": [
      "WARNING:absl:Found untraced functions such as lstm_cell_7_layer_call_fn, lstm_cell_7_layer_call_and_return_conditional_losses, lstm_cell_8_layer_call_fn, lstm_cell_8_layer_call_and_return_conditional_losses, lstm_cell_10_layer_call_fn while saving (showing 5 of 8). These functions will not be directly callable after loading.\n"
     ]
    },
    {
     "name": "stdout",
     "output_type": "stream",
     "text": [
      "INFO:tensorflow:Assets written to: ram://43ea0b11-be3f-4aa8-a513-6974ca1c47a5/assets\n"
     ]
    },
    {
     "name": "stderr",
     "output_type": "stream",
     "text": [
      "INFO:tensorflow:Assets written to: ram://43ea0b11-be3f-4aa8-a513-6974ca1c47a5/assets\n",
      "WARNING:absl:<keras.layers.recurrent.LSTMCell object at 0x000001BA623E0E80> has the same name 'LSTMCell' as a built-in Keras object. Consider renaming <class 'keras.layers.recurrent.LSTMCell'> to avoid naming conflicts when loading with `tf.keras.models.load_model`. If renaming is not possible, pass the object in the `custom_objects` parameter of the load function.\n",
      "WARNING:absl:<keras.layers.recurrent.LSTMCell object at 0x000001BA623E1180> has the same name 'LSTMCell' as a built-in Keras object. Consider renaming <class 'keras.layers.recurrent.LSTMCell'> to avoid naming conflicts when loading with `tf.keras.models.load_model`. If renaming is not possible, pass the object in the `custom_objects` parameter of the load function.\n",
      "WARNING:absl:<keras.layers.recurrent.LSTMCell object at 0x000001B9F2221600> has the same name 'LSTMCell' as a built-in Keras object. Consider renaming <class 'keras.layers.recurrent.LSTMCell'> to avoid naming conflicts when loading with `tf.keras.models.load_model`. If renaming is not possible, pass the object in the `custom_objects` parameter of the load function.\n",
      "WARNING:absl:<keras.layers.recurrent.LSTMCell object at 0x000001BA5FF5AAA0> has the same name 'LSTMCell' as a built-in Keras object. Consider renaming <class 'keras.layers.recurrent.LSTMCell'> to avoid naming conflicts when loading with `tf.keras.models.load_model`. If renaming is not possible, pass the object in the `custom_objects` parameter of the load function.\n"
     ]
    }
   ],
   "source": [
    "import pickle\n",
    "\n",
    "# Save the model as a pickle file\n",
    "with open(\"./model.pkl\", \"wb\") as file:\n",
    "    pickle.dump(model, file)"
   ]
  },
  {
   "cell_type": "code",
   "execution_count": 68,
   "id": "881cb909",
   "metadata": {},
   "outputs": [],
   "source": [
    "# Save the model as a pickle file\n",
    "with open(\"./tokenizer.pkl\", \"wb\") as file:\n",
    "    pickle.dump(tokenizer, file)"
   ]
  },
  {
   "cell_type": "code",
   "execution_count": 69,
   "id": "e9b582dc",
   "metadata": {},
   "outputs": [],
   "source": [
    "# Save the model as a pickle file\n",
    "with open(\"./index_to_class.pkl\", \"wb\") as file:\n",
    "    pickle.dump(index_to_classes, file)"
   ]
  },
  {
   "cell_type": "code",
   "execution_count": null,
   "id": "387631a0",
   "metadata": {},
   "outputs": [],
   "source": []
  }
 ],
 "metadata": {
  "kernelspec": {
   "display_name": "Python 3",
   "language": "python",
   "name": "python3"
  },
  "language_info": {
   "codemirror_mode": {
    "name": "ipython",
    "version": 3
   },
   "file_extension": ".py",
   "mimetype": "text/x-python",
   "name": "python",
   "nbconvert_exporter": "python",
   "pygments_lexer": "ipython3",
   "version": "3.10.4"
  },
  "vscode": {
   "interpreter": {
    "hash": "369f2c481f4da34e4445cda3fffd2e751bd1c4d706f27375911949ba6bb62e1c"
   }
  }
 },
 "nbformat": 4,
 "nbformat_minor": 5
}
